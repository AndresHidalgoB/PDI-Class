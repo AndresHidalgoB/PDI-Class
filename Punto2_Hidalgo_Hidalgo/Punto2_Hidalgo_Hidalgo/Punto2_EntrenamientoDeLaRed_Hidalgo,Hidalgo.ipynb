{
  "nbformat": 4,
  "nbformat_minor": 0,
  "metadata": {
    "colab": {
      "provenance": []
    },
    "kernelspec": {
      "name": "python3",
      "display_name": "Python 3"
    },
    "language_info": {
      "name": "python"
    },
    "accelerator": "GPU",
    "gpuClass": "standard"
  },
  "cells": [
    {
      "cell_type": "markdown",
      "source": [
        "<font color='white'> JUAN CAMILO HIDALGO BETANCOURTH <font color='gray'> 2205622\n",
        "\n",
        "<font color='white'> ANDRES FELIPE HIDALGO BETANCOURTH <font color='gray'>2205621"
      ],
      "metadata": {
        "id": "8-I5VftTuEUW"
      }
    },
    {
      "cell_type": "code",
      "source": [
        "from google.colab import drive\n",
        "\n",
        "drive.mount('/content/drive')"
      ],
      "metadata": {
        "colab": {
          "base_uri": "https://localhost:8080/"
        },
        "id": "peYHgSGjveyu",
        "outputId": "17d5951f-9b5b-41a8-bd30-5235d4eecddc"
      },
      "execution_count": 1,
      "outputs": [
        {
          "output_type": "stream",
          "name": "stdout",
          "text": [
            "Mounted at /content/drive\n"
          ]
        }
      ]
    },
    {
      "cell_type": "code",
      "source": [
        "#construir y entrenar modelos de redes neuronales\n",
        "import tensorflow as tf\n",
        "from tensorflow.keras.datasets import mnist"
      ],
      "metadata": {
        "id": "0d5Z2xFLL6gk"
      },
      "execution_count": 2,
      "outputs": []
    },
    {
      "cell_type": "code",
      "source": [
        "# Cargar el conjunto de datos MNIST, que contiene imágenes de dígitos escritos a mano\n",
        "(x_train, y_train), (x_test, y_test) = mnist.load_data()\n",
        "\n",
        "# Normalizar las imágenes dividiendo los valores de píxel por 255 para que estén entre 0 y 1\n",
        "x_train = x_train / 255.0\n",
        "x_test = x_test / 255.0"
      ],
      "metadata": {
        "colab": {
          "base_uri": "https://localhost:8080/"
        },
        "id": "JlByaxHrL9bi",
        "outputId": "7145b817-6b38-421d-c36a-402d273d6bf1"
      },
      "execution_count": 3,
      "outputs": [
        {
          "output_type": "stream",
          "name": "stdout",
          "text": [
            "Downloading data from https://storage.googleapis.com/tensorflow/tf-keras-datasets/mnist.npz\n",
            "11490434/11490434 [==============================] - 0s 0us/step\n"
          ]
        }
      ]
    },
    {
      "cell_type": "code",
      "source": [
        "# Agregar una dimensión a las imágenes para que sean compatibles con la entrada de la red neuronal\n",
        "x_train = x_train.reshape(x_train.shape[0], 28, 28, 1)\n",
        "x_test = x_test.reshape(x_test.shape[0], 28, 28, 1)"
      ],
      "metadata": {
        "id": "z93qJ6A1MCvT"
      },
      "execution_count": 4,
      "outputs": []
    },
    {
      "cell_type": "code",
      "source": [
        "# Definir la arquitectura de la red neuronal\n",
        "model = tf.keras.models.Sequential([\n",
        "    tf.keras.layers.Conv2D(32, (3,3), activation='relu', input_shape=(28, 28, 1)), # Capa de convolución con 32 filtros de 3x3, función de activación ReLU y forma de entrada de (28, 28, 1)\n",
        "    tf.keras.layers.MaxPooling2D((2, 2)), # Capa de agrupación máxima 2D con ventana de 2x2\n",
        "    tf.keras.layers.Conv2D(32, (3,3), activation='relu'), # Capa de convolución con 64 filtros de 3x3 y función de activación ReLU\n",
        "    tf.keras.layers.MaxPooling2D((2, 2)), # Capa de agrupación máxima 2D con ventana de 2x2\n",
        "    tf.keras.layers.Conv2D(16, (3,3), activation='relu'), # Capa de convolución con 64 filtros de 3x3 y función de activación ReLU\n",
        "    tf.keras.layers.MaxPooling2D((2, 2)), # Capa de agrupación máxima 2D con ventana de 2x2\n",
        "    tf.keras.layers.Flatten(), # Capa de aplanamiento para convertir la salida de las capas anteriores en un vector unidimensional\n",
        "    tf.keras.layers.Dense(16, activation='relu'), # Capa completamente conectada con 64 neuronas y función de activación ReLU\n",
        "    tf.keras.layers.Dense(10, activation='softmax') # Capa de salida completamente conectada con 10 neuronas (una para cada posible dígito) y función de activación softmax para la clasificación\n",
        "])"
      ],
      "metadata": {
        "id": "5CVuiQluMGG1"
      },
      "execution_count": 17,
      "outputs": []
    },
    {
      "cell_type": "code",
      "source": [
        "# Compilar la red neuronal, especificando la función de pérdida, el optimizador y la métrica de evaluación\n",
        "model.compile(loss='sparse_categorical_crossentropy', optimizer='adam', metrics=['accuracy'])"
      ],
      "metadata": {
        "id": "v85_zdt7MIEU"
      },
      "execution_count": 18,
      "outputs": []
    },
    {
      "cell_type": "code",
      "source": [
        "# Entrenar la red neuronal con los datos de entrenamiento y especificando el número de épocas y el tamaño del lote\n",
        "model.fit(x_train, y_train, epochs=5, batch_size=64)"
      ],
      "metadata": {
        "colab": {
          "base_uri": "https://localhost:8080/"
        },
        "id": "i9lvy-uiMJz2",
        "outputId": "2ed149f1-25fd-43f7-f2b6-4dfb31613de1"
      },
      "execution_count": 19,
      "outputs": [
        {
          "output_type": "stream",
          "name": "stdout",
          "text": [
            "Epoch 1/5\n",
            "938/938 [==============================] - 7s 4ms/step - loss: 0.5143 - accuracy: 0.8395\n",
            "Epoch 2/5\n",
            "938/938 [==============================] - 4s 4ms/step - loss: 0.1704 - accuracy: 0.9497\n",
            "Epoch 3/5\n",
            "938/938 [==============================] - 4s 4ms/step - loss: 0.1230 - accuracy: 0.9629\n",
            "Epoch 4/5\n",
            "938/938 [==============================] - 4s 5ms/step - loss: 0.0992 - accuracy: 0.9700\n",
            "Epoch 5/5\n",
            "938/938 [==============================] - 4s 4ms/step - loss: 0.0835 - accuracy: 0.9750\n"
          ]
        },
        {
          "output_type": "execute_result",
          "data": {
            "text/plain": [
              "<keras.callbacks.History at 0x7f6874b46df0>"
            ]
          },
          "metadata": {},
          "execution_count": 19
        }
      ]
    },
    {
      "cell_type": "code",
      "source": [
        "# Evaluar el rendimiento de la red neuronal con los datos de prueba\n",
        "test_loss, test_acc = model.evaluate(x_test, y_test)\n",
        "print('Accuracy:', test_acc)"
      ],
      "metadata": {
        "colab": {
          "base_uri": "https://localhost:8080/"
        },
        "id": "XLDnAMCJMMfc",
        "outputId": "98b83d05-0e72-4bba-fd8c-ab51424f7d8d"
      },
      "execution_count": 20,
      "outputs": [
        {
          "output_type": "stream",
          "name": "stdout",
          "text": [
            "313/313 [==============================] - 1s 3ms/step - loss: 0.0834 - accuracy: 0.9735\n",
            "Accuracy: 0.9735000133514404\n"
          ]
        }
      ]
    },
    {
      "cell_type": "code",
      "source": [
        "#Guardamos el modelo\n",
        "model.save('/content/drive/MyDrive/Parcial2/modeloConv.h5')"
      ],
      "metadata": {
        "id": "MdzV-GwdMcCs"
      },
      "execution_count": 21,
      "outputs": []
    }
  ]
}